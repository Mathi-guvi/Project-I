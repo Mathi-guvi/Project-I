{
 "cells": [
  {
   "cell_type": "code",
   "execution_count": 2,
   "metadata": {},
   "outputs": [],
   "source": [
    "#Import modules\n",
    "from datetime import datetime\n",
    "import pandas as pd\n",
    "import csv\n",
    "from faker import Faker\n",
    "import random"
   ]
  },
  {
   "cell_type": "code",
   "execution_count": 3,
   "metadata": {},
   "outputs": [],
   "source": [
    "#Initialize Faker\n",
    "fake = Faker()"
   ]
  },
  {
   "cell_type": "code",
   "execution_count": 4,
   "metadata": {},
   "outputs": [
    {
     "name": "stdout",
     "output_type": "stream",
     "text": [
      "csv file 'Per_Exp_Track.csv' has been created.\n"
     ]
    }
   ],
   "source": [
    "#CSV file name\n",
    "csv_file = \"Per_Exp_Track.csv\"\n",
    "\n",
    "#Categories\n",
    "Payment_Modes = [\"Cash\", \"UPI\", \"Credit Card\", \"NEFT\"]\n",
    "category_description = {\n",
    "    \"Bills\" : ['Houserent', 'EB', 'Gas', 'Mobile', 'Cable', 'Wifi'],\n",
    "    \"Subcription\" : ['Spotify', 'Amazonprime', 'Hotstar'],\n",
    "    \"Groceries\" : ['Weekly purchase'],\n",
    "    \"Vegetables\" : ['Weekly purchase'],\n",
    "    \"Investments\": ['RD', 'Insurance', 'Postoffice'],\n",
    "    \"Fees\" : ['Semfee', 'Coursefee', 'Termfee'],\n",
    "    \"Health\" : ['Bought Medicine', 'Doctor Consultation', 'Nutrition', 'Health Drinks', 'Gym Workout'],\n",
    "    \"Shopping\" : ['Purchase New Cloth', 'Kitchen Things', 'New Gadgets', 'New Furnitures', 'Electronic Things'],\n",
    "}\n",
    "\n",
    "#Generate Year, Month & Date 2024\n",
    "def generate_dates(year, month):\n",
    "    start_date = datetime(year, month, 1)  \n",
    "    end_date = datetime(year, month+1, 1)  if month < 12 else datetime(year, 12, 31)\n",
    "    return fake.date_between(start_date=start_date, end_date=end_date).strftime(\"%Y-%m-%d\")\n",
    "\n",
    "\n",
    "#Create CSV file\n",
    "with open (csv_file, mode='w', newline=\"\", encoding=\"utf-8\") as file:\n",
    "    writer = csv.writer(file)\n",
    "    writer.writerow([\"Date\", \"Categories\", \"Paymentmode\", \"Description\", \"Amount\", \"Cashback\"])\n",
    "\n",
    "    num_rows=1200\n",
    "    m_year = 2024\n",
    "    for month in range(1, 13):\n",
    "        for _ in range (num_rows // 12):\n",
    "            Categories = random.choice(list(category_description.keys()))\n",
    "            Description = random.choice(category_description[Categories])\n",
    "            writer.writerow([\n",
    "                generate_dates(m_year, month),\n",
    "                Categories,\n",
    "                random.choice(Payment_Modes),\n",
    "                Description,\n",
    "                round(random.uniform(10,2000),2),\n",
    "                round(random.uniform(0,10),2)\n",
    "            ])\n",
    "   \n",
    "print(f\"csv file '{csv_file}' has been created.\")"
   ]
  },
  {
   "cell_type": "code",
   "execution_count": null,
   "metadata": {},
   "outputs": [],
   "source": []
  }
 ],
 "metadata": {
  "kernelspec": {
   "display_name": "sql",
   "language": "python",
   "name": "python3"
  },
  "language_info": {
   "codemirror_mode": {
    "name": "ipython",
    "version": 3
   },
   "file_extension": ".py",
   "mimetype": "text/x-python",
   "name": "python",
   "nbconvert_exporter": "python",
   "pygments_lexer": "ipython3",
   "version": "undefined.undefined.undefined"
  }
 },
 "nbformat": 4,
 "nbformat_minor": 2
}
